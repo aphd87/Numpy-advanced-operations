{
 "cells": [
  {
   "cell_type": "code",
   "execution_count": 1,
   "id": "b20ce8d3",
   "metadata": {},
   "outputs": [],
   "source": [
    "import numpy as np"
   ]
  },
  {
   "cell_type": "code",
   "execution_count": 2,
   "id": "9e615e6b",
   "metadata": {},
   "outputs": [
    {
     "name": "stdout",
     "output_type": "stream",
     "text": [
      "[0. 0. 0. 0. 0. 0. 0. 0. 0. 0.]\n"
     ]
    }
   ],
   "source": [
    "my_1d_array = np.zeros(10)\n",
    "print(my_1d_array)\n",
    "\n",
    "#1d array with 10 zeros"
   ]
  },
  {
   "cell_type": "code",
   "execution_count": 3,
   "id": "68a43310",
   "metadata": {},
   "outputs": [
    {
     "name": "stdout",
     "output_type": "stream",
     "text": [
      "[50.  0.  0.  0.  0.  0.  0.  0.  0.  0.]\n"
     ]
    }
   ],
   "source": [
    "#If I want to change one of these values\n",
    "my_1d_array[0] = 50\n",
    "print(my_1d_array) #0 if element has been converted to 0"
   ]
  },
  {
   "cell_type": "code",
   "execution_count": 4,
   "id": "f18d0478",
   "metadata": {},
   "outputs": [],
   "source": [
    "#Now the first element [0] has been changed to 50"
   ]
  },
  {
   "cell_type": "code",
   "execution_count": 5,
   "id": "8c9e2f09",
   "metadata": {},
   "outputs": [
    {
     "name": "stdout",
     "output_type": "stream",
     "text": [
      "[50.  0.  0. 50. 50. 50.  0.  0.  0.  0.]\n"
     ]
    }
   ],
   "source": [
    "my_1d_array[3:6] = 50\n",
    "print(my_1d_array) #Now these elements have been changed into 50"
   ]
  },
  {
   "cell_type": "code",
   "execution_count": 6,
   "id": "6287783a",
   "metadata": {},
   "outputs": [
    {
     "data": {
      "text/plain": [
       "(array([0, 3, 4, 5], dtype=int64),)"
      ]
     },
     "execution_count": 6,
     "metadata": {},
     "output_type": "execute_result"
    }
   ],
   "source": [
    "np.where(my_1d_array == 50) #It tells me where 50 is located here"
   ]
  },
  {
   "cell_type": "code",
   "execution_count": 7,
   "id": "5533685a",
   "metadata": {},
   "outputs": [
    {
     "name": "stdout",
     "output_type": "stream",
     "text": [
      "[[1 5 9]\n",
      " [8 5 5]]\n"
     ]
    }
   ],
   "source": [
    "my_2d_array = np.array([[1,5,9],[8,5,5]])\n",
    "print(my_2d_array)"
   ]
  },
  {
   "cell_type": "code",
   "execution_count": 8,
   "id": "99bfebae",
   "metadata": {},
   "outputs": [
    {
     "data": {
      "text/plain": [
       "(array([0, 1, 1], dtype=int64), array([1, 1, 2], dtype=int64))"
      ]
     },
     "execution_count": 8,
     "metadata": {},
     "output_type": "execute_result"
    }
   ],
   "source": [
    "np.where(my_2d_array == 5) #equaled five\n",
    "#5 located in row 0, column 1, row 1 and column 1, and row 1 and column 2"
   ]
  },
  {
   "cell_type": "code",
   "execution_count": 9,
   "id": "7b8cabcb",
   "metadata": {},
   "outputs": [
    {
     "data": {
      "text/plain": [
       "(array([0], dtype=int64), array([0], dtype=int64))"
      ]
     },
     "execution_count": 9,
     "metadata": {},
     "output_type": "execute_result"
    }
   ],
   "source": [
    "np.where(my_2d_array <5) #less than 5\n"
   ]
  },
  {
   "cell_type": "code",
   "execution_count": 10,
   "id": "f87bb920",
   "metadata": {},
   "outputs": [
    {
     "data": {
      "text/plain": [
       "(array([0, 0, 1, 1, 1], dtype=int64), array([1, 2, 0, 1, 2], dtype=int64))"
      ]
     },
     "execution_count": 10,
     "metadata": {},
     "output_type": "execute_result"
    }
   ],
   "source": [
    "\n",
    "np.where(my_2d_array >=5) #greater/equal to 5\n"
   ]
  },
  {
   "cell_type": "code",
   "execution_count": 11,
   "id": "e3216904",
   "metadata": {},
   "outputs": [
    {
     "data": {
      "text/plain": [
       "(array([0, 0, 1], dtype=int64), array([0, 2, 0], dtype=int64))"
      ]
     },
     "execution_count": 11,
     "metadata": {},
     "output_type": "execute_result"
    }
   ],
   "source": [
    "\n",
    "np.where(my_2d_array !=5)#Not equal to 5"
   ]
  },
  {
   "cell_type": "code",
   "execution_count": 13,
   "id": "52246d45",
   "metadata": {},
   "outputs": [
    {
     "data": {
      "text/plain": [
       "array([[0, 1],\n",
       "       [1, 1],\n",
       "       [1, 2]], dtype=int64)"
      ]
     },
     "execution_count": 13,
     "metadata": {},
     "output_type": "execute_result"
    }
   ],
   "source": [
    "np.argwhere(my_2d_array == 5) #This is easier to read - all rows and columns are in one place"
   ]
  },
  {
   "cell_type": "code",
   "execution_count": 15,
   "id": "70d3b93a",
   "metadata": {},
   "outputs": [
    {
     "name": "stdout",
     "output_type": "stream",
     "text": [
      "(array([0, 1], dtype=int64), array([2, 0], dtype=int64))\n"
     ]
    }
   ],
   "source": [
    "index = np.where(my_2d_array > 5)\n",
    "print(index)"
   ]
  },
  {
   "cell_type": "code",
   "execution_count": 16,
   "id": "82d25820",
   "metadata": {},
   "outputs": [
    {
     "name": "stdout",
     "output_type": "stream",
     "text": [
      "(array([0, 1], dtype=int64), array([2, 0], dtype=int64))\n"
     ]
    }
   ],
   "source": [
    "index = np.where(my_2d_array > 5)\n",
    "print(index)"
   ]
  },
  {
   "cell_type": "code",
   "execution_count": 17,
   "id": "33ee2fba",
   "metadata": {},
   "outputs": [
    {
     "data": {
      "text/plain": [
       "array([9, 8])"
      ]
     },
     "execution_count": 17,
     "metadata": {},
     "output_type": "execute_result"
    }
   ],
   "source": [
    "my_2d_array[index] #Brought back conditions that were greater than 5 - numbers 8 and 9"
   ]
  },
  {
   "cell_type": "code",
   "execution_count": 23,
   "id": "4b7e608e",
   "metadata": {},
   "outputs": [
    {
     "name": "stdout",
     "output_type": "stream",
     "text": [
      "[[  1   5 100]\n",
      " [100   5   5]]\n"
     ]
    }
   ],
   "source": [
    "my_2d_array[index] = 100\n",
    "print(my_2d_array) #Index numbers were changed to equal to 100"
   ]
  },
  {
   "cell_type": "code",
   "execution_count": 24,
   "id": "a64f0124",
   "metadata": {},
   "outputs": [
    {
     "data": {
      "text/plain": [
       "False"
      ]
     },
     "execution_count": 24,
     "metadata": {},
     "output_type": "execute_result"
    }
   ],
   "source": [
    "np.all(my_1d_array)#False - As similar to the where function - it will default to 0 without a specific condition\n",
    "#We've asked if all values are non-zero - no there are some zeros, so this is false"
   ]
  },
  {
   "cell_type": "code",
   "execution_count": 25,
   "id": "bc7c46ad",
   "metadata": {},
   "outputs": [
    {
     "data": {
      "text/plain": [
       "True"
      ]
     },
     "execution_count": 25,
     "metadata": {},
     "output_type": "execute_result"
    }
   ],
   "source": [
    "np.all(my_1d_array >= 0)\n",
    "#Are all values greater than or equal to 0\n"
   ]
  },
  {
   "cell_type": "code",
   "execution_count": 26,
   "id": "42b2d063",
   "metadata": {},
   "outputs": [
    {
     "data": {
      "text/plain": [
       "False"
      ]
     },
     "execution_count": 26,
     "metadata": {},
     "output_type": "execute_result"
    }
   ],
   "source": [
    "np.all(my_1d_array >5)\n",
    "\n",
    "#Are all values greater than 5"
   ]
  },
  {
   "cell_type": "code",
   "execution_count": 27,
   "id": "f42174b0",
   "metadata": {},
   "outputs": [
    {
     "data": {
      "text/plain": [
       "True"
      ]
     },
     "execution_count": 27,
     "metadata": {},
     "output_type": "execute_result"
    }
   ],
   "source": [
    "np.any(my_1d_array) #Are any elements non-zero?"
   ]
  },
  {
   "cell_type": "code",
   "execution_count": 28,
   "id": "4f3f87be",
   "metadata": {},
   "outputs": [
    {
     "name": "stdout",
     "output_type": "stream",
     "text": [
      "[[1 2]\n",
      " [3 4]]\n",
      "[[5 6]\n",
      " [7 8]]\n"
     ]
    }
   ],
   "source": [
    "#Combining arrays \n",
    "\n",
    "a = np.array([[1,2], [3,4]])\n",
    "b = np.array([[5,6],[7,8]])\n",
    "print(a)\n",
    "print(b)"
   ]
  },
  {
   "cell_type": "code",
   "execution_count": 35,
   "id": "95898bc6",
   "metadata": {},
   "outputs": [
    {
     "name": "stdout",
     "output_type": "stream",
     "text": [
      "[[1 2]\n",
      " [3 4]\n",
      " [5 6]\n",
      " [7 8]]\n"
     ]
    }
   ],
   "source": [
    "#To stack on top of each other, use vstack\n",
    "\n",
    "v = np.vstack((a,b))\n",
    "print(v)"
   ]
  },
  {
   "cell_type": "code",
   "execution_count": 36,
   "id": "91e3deca",
   "metadata": {},
   "outputs": [
    {
     "name": "stdout",
     "output_type": "stream",
     "text": [
      "[[1 2]\n",
      " [3 4]\n",
      " [5 6]\n",
      " [7 8]\n",
      " [1 2]\n",
      " [3 4]\n",
      " [5 6]\n",
      " [7 8]]\n"
     ]
    }
   ],
   "source": [
    "v = np.vstack((a,b,a,b))\n",
    "print(v) #stacked 4 arrays on top of each other"
   ]
  },
  {
   "cell_type": "code",
   "execution_count": 29,
   "id": "61ee3700",
   "metadata": {},
   "outputs": [],
   "source": [
    "#To stack side by side, use h stack"
   ]
  },
  {
   "cell_type": "code",
   "execution_count": 37,
   "id": "5402d53d",
   "metadata": {},
   "outputs": [
    {
     "name": "stdout",
     "output_type": "stream",
     "text": [
      "[[1 2 5 6]\n",
      " [3 4 7 8]]\n"
     ]
    }
   ],
   "source": [
    "h = np.hstack((a,b))\n",
    "print(h)"
   ]
  },
  {
   "cell_type": "code",
   "execution_count": 34,
   "id": "d26c3f1e",
   "metadata": {},
   "outputs": [
    {
     "data": {
      "text/plain": [
       "array([[1, 2, 5, 6, 1, 2, 5, 6],\n",
       "       [3, 4, 7, 8, 3, 4, 7, 8]])"
      ]
     },
     "execution_count": 34,
     "metadata": {},
     "output_type": "execute_result"
    }
   ],
   "source": [
    "np.hstack((a,b,a,b))"
   ]
  },
  {
   "cell_type": "code",
   "execution_count": 39,
   "id": "0729e33a",
   "metadata": {},
   "outputs": [
    {
     "name": "stdout",
     "output_type": "stream",
     "text": [
      "[[  1   5 100]\n",
      " [100   5   5]]\n"
     ]
    },
    {
     "data": {
      "text/plain": [
       "array([  1,   5, 100, 100,   5,   5])"
      ]
     },
     "execution_count": 39,
     "metadata": {},
     "output_type": "execute_result"
    }
   ],
   "source": [
    "print(my_2d_array) #3 columns and 2 rows\n",
    "my_2d_array.flatten() #Squished into 1d array"
   ]
  },
  {
   "cell_type": "code",
   "execution_count": null,
   "id": "a956c87a",
   "metadata": {},
   "outputs": [],
   "source": []
  }
 ],
 "metadata": {
  "kernelspec": {
   "display_name": "Python 3 (ipykernel)",
   "language": "python",
   "name": "python3"
  },
  "language_info": {
   "codemirror_mode": {
    "name": "ipython",
    "version": 3
   },
   "file_extension": ".py",
   "mimetype": "text/x-python",
   "name": "python",
   "nbconvert_exporter": "python",
   "pygments_lexer": "ipython3",
   "version": "3.11.5"
  }
 },
 "nbformat": 4,
 "nbformat_minor": 5
}
